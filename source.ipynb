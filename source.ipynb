{
 "cells": [
  {
   "cell_type": "code",
   "execution_count": null,
   "id": "ce6e5d54",
   "metadata": {},
   "outputs": [],
   "source": [
    "import os"
   ]
  },
  {
   "cell_type": "code",
   "execution_count": null,
   "id": "db9eb0fa",
   "metadata": {},
   "outputs": [],
   "source": [
    "from google.cloud import texttospeech"
   ]
  },
  {
   "cell_type": "code",
   "execution_count": null,
   "id": "dadfe61d",
   "metadata": {},
   "outputs": [],
   "source": [
    "import pygame"
   ]
  },
  {
   "cell_type": "code",
   "execution_count": null,
   "id": "538e22bf",
   "metadata": {},
   "outputs": [],
   "source": []
  },
  {
   "cell_type": "code",
   "execution_count": null,
   "id": "fc70b88f",
   "metadata": {},
   "outputs": [],
   "source": [
    "wdpath = os.getcwd()"
   ]
  },
  {
   "cell_type": "code",
   "execution_count": null,
   "id": "fee770f1",
   "metadata": {},
   "outputs": [],
   "source": [
    "filename=\"your-file-name.json\""
   ]
  },
  {
   "cell_type": "code",
   "execution_count": null,
   "id": "9c284857",
   "metadata": {},
   "outputs": [],
   "source": [
    "finalPath = wdpath+filename"
   ]
  },
  {
   "cell_type": "code",
   "execution_count": null,
   "id": "94cdf4d7",
   "metadata": {},
   "outputs": [],
   "source": [
    "#Set GOOGLE_APPLICATION_CREDENTIALS in env\n",
    "os.environ[\"GOOGLE_APPLICATION_CREDENTIALS\"]=finalPath"
   ]
  },
  {
   "cell_type": "code",
   "execution_count": null,
   "id": "82999848",
   "metadata": {},
   "outputs": [],
   "source": [
    "# Instantiates a client\n",
    "client = texttospeech.TextToSpeechClient()"
   ]
  },
  {
   "cell_type": "code",
   "execution_count": null,
   "id": "a5c7ab2f",
   "metadata": {},
   "outputs": [],
   "source": [
    "# Set the text input to be synthesized\n",
    "synthesis_input = texttospeech.SynthesisInput(text=\"Did you know? In 1944, an American general was caugth spying in Washington.\")"
   ]
  },
  {
   "cell_type": "code",
   "execution_count": null,
   "id": "243c7065",
   "metadata": {},
   "outputs": [],
   "source": [
    "# Build the voice request, select the language code (\"en-US\") and the ssml\n",
    "# voice gender (\"neutral\")\n",
    "voice = texttospeech.VoiceSelectionParams(\n",
    "    language_code=\"en-US\", ssml_gender=texttospeech.SsmlVoiceGender.NEUTRAL\n",
    ")"
   ]
  },
  {
   "cell_type": "code",
   "execution_count": null,
   "id": "5d505318",
   "metadata": {},
   "outputs": [],
   "source": [
    "# Select the type of audio file you want returned\n",
    "audio_config = texttospeech.AudioConfig(\n",
    "    audio_encoding=texttospeech.AudioEncoding.MP3\n",
    ")"
   ]
  },
  {
   "cell_type": "code",
   "execution_count": null,
   "id": "f004f28f",
   "metadata": {},
   "outputs": [],
   "source": [
    "#Make API call\n",
    "response = client.synthesize_speech(\n",
    "    input=synthesis_input, voice=voice, audio_config=audio_config\n",
    ")"
   ]
  },
  {
   "cell_type": "code",
   "execution_count": null,
   "id": "757518af",
   "metadata": {},
   "outputs": [],
   "source": [
    "response"
   ]
  },
  {
   "cell_type": "code",
   "execution_count": null,
   "id": "cc91f0af",
   "metadata": {},
   "outputs": [],
   "source": [
    "#Save file to cwd\n",
    "with open(\"output.mp3\", \"wb\") as out:\n",
    "    # Write the response to the output file.\n",
    "    out.write(response.audio_content)\n",
    "    print('Audio content written to file \"output.mp3\"')"
   ]
  },
  {
   "cell_type": "code",
   "execution_count": null,
   "id": "4e80b760",
   "metadata": {},
   "outputs": [],
   "source": [
    "#Play with pygame\n",
    "pygame.mixer.init()\n",
    "pygame.mixer.music.load(\"output.mp3\")\n",
    "pygame.mixer.music.play()"
   ]
  },
  {
   "cell_type": "code",
   "execution_count": null,
   "id": "4f0a48cf",
   "metadata": {},
   "outputs": [],
   "source": []
  },
  {
   "cell_type": "code",
   "execution_count": null,
   "id": "204a2111",
   "metadata": {},
   "outputs": [],
   "source": []
  },
  {
   "cell_type": "code",
   "execution_count": null,
   "id": "63b7215d",
   "metadata": {},
   "outputs": [],
   "source": []
  },
  {
   "cell_type": "code",
   "execution_count": null,
   "id": "9dd4b6e0",
   "metadata": {},
   "outputs": [],
   "source": []
  },
  {
   "cell_type": "code",
   "execution_count": null,
   "id": "8b7f06ce",
   "metadata": {},
   "outputs": [],
   "source": []
  },
  {
   "cell_type": "code",
   "execution_count": null,
   "id": "9d1da47d",
   "metadata": {},
   "outputs": [],
   "source": []
  }
 ],
 "metadata": {
  "kernelspec": {
   "display_name": "Python 3 (ipykernel)",
   "language": "python",
   "name": "python3"
  },
  "language_info": {
   "codemirror_mode": {
    "name": "ipython",
    "version": 3
   },
   "file_extension": ".py",
   "mimetype": "text/x-python",
   "name": "python",
   "nbconvert_exporter": "python",
   "pygments_lexer": "ipython3",
   "version": "3.8.5"
  }
 },
 "nbformat": 4,
 "nbformat_minor": 5
}
